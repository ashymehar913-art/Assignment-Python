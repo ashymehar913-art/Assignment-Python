{
  "nbformat": 4,
  "nbformat_minor": 0,
  "metadata": {
    "colab": {
      "provenance": []
    },
    "kernelspec": {
      "name": "python3",
      "display_name": "Python 3"
    },
    "language_info": {
      "name": "python"
    }
  },
  "cells": [
    {
      "cell_type": "markdown",
      "source": [
        "1: Write a program to check if a number is postive, nagtive or zero."
      ],
      "metadata": {
        "id": "AbpQpE0O8MZq"
      }
    },
    {
      "cell_type": "code",
      "execution_count": null,
      "metadata": {
        "colab": {
          "base_uri": "https://localhost:8080/"
        },
        "id": "BAWzIqdU8Jnz",
        "outputId": "a31c5e5f-16ab-4068-e516-91c9ea66556a"
      },
      "outputs": [
        {
          "output_type": "stream",
          "name": "stdout",
          "text": [
            "enter a number3\n",
            "positive\n"
          ]
        }
      ],
      "source": [
        "num=int(input(\"enter a number\"))\n",
        "if num> 0:\n",
        "    print(\"positive\")\n",
        "elif num< 0:\n",
        "    print(\"nagative\")\n",
        "else:\n",
        "    print(\"zero\")"
      ]
    },
    {
      "cell_type": "markdown",
      "source": [
        " 2: Input a num and print weather it is Even,odd"
      ],
      "metadata": {
        "id": "Nyq_huVw98Kz"
      }
    },
    {
      "cell_type": "code",
      "source": [
        "num=int(input(\"enter a number\"))\n",
        "if num%2==0:\n",
        "    print(\"even\")\n",
        "else:\n",
        "    print(\"odd\")"
      ],
      "metadata": {
        "colab": {
          "base_uri": "https://localhost:8080/"
        },
        "id": "Ql1Hj5D4-Fdu",
        "outputId": "2f1998bc-913d-430f-eca7-03b92077c9f8"
      },
      "execution_count": null,
      "outputs": [
        {
          "output_type": "stream",
          "name": "stdout",
          "text": [
            "enter a number2\n",
            "even\n"
          ]
        }
      ]
    },
    {
      "cell_type": "markdown",
      "source": [
        "3: Ask age and printif preson is eligible vote."
      ],
      "metadata": {
        "id": "Cv8mM0fr-oV3"
      }
    },
    {
      "cell_type": "code",
      "source": [
        "age=int(input(\"enter your age\"))\n",
        "if age>=18:\n",
        "    print(\"eligible\")\n",
        "else:\n",
        "    print(\"not eligible\")"
      ],
      "metadata": {
        "colab": {
          "base_uri": "https://localhost:8080/"
        },
        "id": "65whdCA7_gAb",
        "outputId": "f3ba44ab-d94a-4064-bcbb-dfc5f5c8c455"
      },
      "execution_count": null,
      "outputs": [
        {
          "output_type": "stream",
          "name": "stdout",
          "text": [
            "enter your age18\n",
            "eligible\n"
          ]
        }
      ]
    },
    {
      "cell_type": "markdown",
      "source": [
        "4: If a number is divisible by 3,4 or both."
      ],
      "metadata": {
        "id": "FC7O82sa_tcr"
      }
    },
    {
      "cell_type": "code",
      "source": [
        "num=int(input(\"enter a number\"))\n",
        "if num%3==0 and num%4==0:\n",
        "    print(\"divisible by both\")\n",
        "elif num%3==0:\n",
        "    print(\"divisible by 4\")\n",
        "elif num%4==0:\n",
        "    print(\"divisible by 4\")\n",
        "else:\n",
        "    print(\"not divisible\")"
      ],
      "metadata": {
        "colab": {
          "base_uri": "https://localhost:8080/"
        },
        "id": "RLyCY-CmAPlP",
        "outputId": "f2ea6db7-1a5c-4f1e-a21e-ca41a3157d9b"
      },
      "execution_count": null,
      "outputs": [
        {
          "output_type": "stream",
          "name": "stdout",
          "text": [
            "enter a number3\n",
            "divisible by 4\n"
          ]
        }
      ]
    },
    {
      "cell_type": "markdown",
      "source": [
        "5: input marks and print grade if, elif or else."
      ],
      "metadata": {
        "id": "PWMpBQ70BVV2"
      }
    },
    {
      "cell_type": "code",
      "source": [
        "marks=99\n",
        "if marks>=90:\n",
        "    print(\"grade A+\")\n",
        "elif marks>=80:\n",
        "    print(\"grade B+\")\n",
        "elif marks>=70:\n",
        "    print(\"grade C+\")\n",
        "else:\n",
        "    print(\"fail\")"
      ],
      "metadata": {
        "colab": {
          "base_uri": "https://localhost:8080/"
        },
        "id": "CfBRY2GYB7iR",
        "outputId": "d00bfda5-6639-4f27-8dae-43e9763a6019"
      },
      "execution_count": null,
      "outputs": [
        {
          "output_type": "stream",
          "name": "stdout",
          "text": [
            "grade A+\n"
          ]
        }
      ]
    },
    {
      "cell_type": "markdown",
      "source": [
        "6: print num for (1,10)."
      ],
      "metadata": {
        "id": "gr75LKCXCnkj"
      }
    },
    {
      "cell_type": "code",
      "source": [
        "for i in range(1,11):\n",
        "   print(i)"
      ],
      "metadata": {
        "colab": {
          "base_uri": "https://localhost:8080/"
        },
        "id": "H0hpYHxwC3sA",
        "outputId": "c0b744e6-4166-4db7-a536-13d498668101"
      },
      "execution_count": null,
      "outputs": [
        {
          "output_type": "stream",
          "name": "stdout",
          "text": [
            "1\n",
            "2\n",
            "3\n",
            "4\n",
            "5\n",
            "6\n",
            "7\n",
            "8\n",
            "9\n",
            "10\n"
          ]
        }
      ]
    },
    {
      "cell_type": "markdown",
      "source": [
        "7: Multiple table of 6."
      ],
      "metadata": {
        "id": "jJ86KLyWCnfP"
      }
    },
    {
      "cell_type": "code",
      "source": [
        "for i in range(1,11):\n",
        "    print(f\"6*{i}={6*i} \")"
      ],
      "metadata": {
        "colab": {
          "base_uri": "https://localhost:8080/"
        },
        "id": "0ZjrXgb5Dgjt",
        "outputId": "00fcc3d8-54ad-42d6-f9ac-407a3cc9bc2f"
      },
      "execution_count": null,
      "outputs": [
        {
          "output_type": "stream",
          "name": "stdout",
          "text": [
            "6*1=6 \n",
            "6*2=12 \n",
            "6*3=18 \n",
            "6*4=24 \n",
            "6*5=30 \n",
            "6*6=36 \n",
            "6*7=42 \n",
            "6*8=48 \n",
            "6*9=54 \n",
            "6*10=60 \n"
          ]
        }
      ]
    },
    {
      "cell_type": "markdown",
      "source": [
        "8: Even number between 1 and 20."
      ],
      "metadata": {
        "id": "E9ASp0swCm6u"
      }
    },
    {
      "cell_type": "code",
      "source": [
        "for i in range(2,21,2):\n",
        "    print(i)"
      ],
      "metadata": {
        "colab": {
          "base_uri": "https://localhost:8080/"
        },
        "id": "B_wR5fSGEzBm",
        "outputId": "8703a758-0276-4dfd-94b1-0462194484f9"
      },
      "execution_count": null,
      "outputs": [
        {
          "output_type": "stream",
          "name": "stdout",
          "text": [
            "2\n",
            "4\n",
            "6\n",
            "8\n",
            "10\n",
            "12\n",
            "14\n",
            "16\n",
            "18\n",
            "20\n"
          ]
        }
      ]
    },
    {
      "cell_type": "markdown",
      "source": [
        "9: Print each letter of word on a new line."
      ],
      "metadata": {
        "id": "J6YamReQFLTV"
      }
    },
    {
      "cell_type": "code",
      "source": [
        "word=\"python\"\n",
        "for i in word:\n",
        "    print(i)"
      ],
      "metadata": {
        "colab": {
          "base_uri": "https://localhost:8080/"
        },
        "id": "sbwwwmOeFKue",
        "outputId": "c31b4ce6-c316-4690-cfe8-3b219779c491"
      },
      "execution_count": null,
      "outputs": [
        {
          "output_type": "stream",
          "name": "stdout",
          "text": [
            "p\n",
            "y\n",
            "t\n",
            "h\n",
            "o\n",
            "n\n"
          ]
        }
      ]
    },
    {
      "cell_type": "markdown",
      "source": [
        "10: Count in vowels in the word \"Eudcation\""
      ],
      "metadata": {
        "id": "gjuP088AG5jf"
      }
    },
    {
      "cell_type": "code",
      "metadata": {
        "colab": {
          "base_uri": "https://localhost:8080/"
        },
        "id": "8bd2d5f9",
        "outputId": "278880ea-014c-4ff8-91cc-c8015e1b6e04"
      },
      "source": [
        "word = \"education\"\n",
        "vowels = \"aeiouAEIOU\"\n",
        "vowel_count = 0\n",
        "\n",
        "for letter in word:\n",
        "    if letter in vowels:\n",
        "        vowel_count += 1\n",
        "\n",
        "print(f\"The number of vowels in '{word}' is: {vowel_count}\")"
      ],
      "execution_count": null,
      "outputs": [
        {
          "output_type": "stream",
          "name": "stdout",
          "text": [
            "The number of vowels in 'education' is: 5\n"
          ]
        }
      ]
    }
  ]
}